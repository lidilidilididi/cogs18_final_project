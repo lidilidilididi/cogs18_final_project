{
 "cells": [
  {
   "cell_type": "markdown",
   "metadata": {},
   "source": [
    "# Welcome to Out-n-In restaurant!\n",
    "## Our Super-Duper Delicious Menu:\n",
    "\n",
    "|BURGERS|FRIES|SHAKES|\n",
    "|---|---|---|\n",
    "|Double-Double \\$3.65|Fries \\$1.75|Strawberry \\$2.25|\n",
    "|Cheeseburger \\$2.55|-|Chocolate \\$2.25|\n",
    "|Hamburger \\$2.25|-|Vanilla \\$2.25|\n",
    "\n",
    "## You can use our cute ordering machine to place your order~\n",
    "### In order to use this machine, here are some rules you have to obey:\n",
    "- You have to start the process by typing in `order`.\n",
    "- Follow each step, and choose your choice of items.\n",
    "- You can only order one item from each category each time. For example, if you want to order two burgers, you have to place your order twice. If there is any category you do not want to order from, simply reply `no`.\n",
    "- For burgers, you have to type in the exact name listed in the menu.\n",
    "- For fries, you can order by simply typing in `yes` or `no`.\n",
    "- For shakes, you have to indicate the flavor you want; otherwise the system would not identify your choice.\n",
    "- If `yes` and `no` are sufficient to answer our cute ordering machine's questions, just use them! The process of placing an order is super-duper simple~\n",
    "- If you type in something not related to the questions asked by our cute ordering machine, then our cute ordering machine has to finish the existing process before you can start a new order.\n",
    "- There is a special discount at the end of the ordering process. Hope you enjoy it!"
   ]
  },
  {
   "cell_type": "code",
   "execution_count": null,
   "metadata": {},
   "outputs": [],
   "source": [
    "from my_module.functions import *"
   ]
  },
  {
   "cell_type": "code",
   "execution_count": null,
   "metadata": {},
   "outputs": [],
   "source": [
    "# start your order here\n",
    "lets_order()"
   ]
  },
  {
   "cell_type": "markdown",
   "metadata": {},
   "source": [
    "#### In order to earn my extra credit, I am going to list the challenges I've met while I work on this project:\n",
    "1. Though I am a super new python learner, all of the functions and every character in this project are originally written by me. I did not import methods we did not learn, nor seek external help. And I am proud with my work.\n",
    "2. In my functions, I used `\\n` to seperate the cute ordering machine's responses line by line. And we did not learn this expression in class.\n",
    "3. I used the method `.lower`. I know we mentioned it briefly in class, but I am still listing it here because this method helps me to avoid creating a function to make the user's response all lower-case.\n",
    "4. The menu above took me a lot of effort. The table and `\\n` are the only two things I looked up online (Ok.. I admit I also looked up in-n-out's menu online).\n",
    "5. I did put my project on public repo on GitHub"
   ]
  }
 ],
 "metadata": {
  "kernelspec": {
   "display_name": "Python 3",
   "language": "python",
   "name": "python3"
  },
  "language_info": {
   "codemirror_mode": {
    "name": "ipython",
    "version": 3
   },
   "file_extension": ".py",
   "mimetype": "text/x-python",
   "name": "python",
   "nbconvert_exporter": "python",
   "pygments_lexer": "ipython3",
   "version": "3.6.7"
  }
 },
 "nbformat": 4,
 "nbformat_minor": 2
}
